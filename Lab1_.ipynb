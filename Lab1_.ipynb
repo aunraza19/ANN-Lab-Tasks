{
  "nbformat": 4,
  "nbformat_minor": 0,
  "metadata": {
    "colab": {
      "provenance": [],
      "authorship_tag": "ABX9TyO3znputPlJ++dAMQM2yF6z",
      "include_colab_link": true
    },
    "kernelspec": {
      "name": "python3",
      "display_name": "Python 3"
    },
    "language_info": {
      "name": "python"
    }
  },
  "cells": [
    {
      "cell_type": "markdown",
      "metadata": {
        "id": "view-in-github",
        "colab_type": "text"
      },
      "source": [
        "<a href=\"https://colab.research.google.com/github/aunraza19/ANN-Lab-Tasks/blob/main/Lab1_.ipynb\" target=\"_parent\"><img src=\"https://colab.research.google.com/assets/colab-badge.svg\" alt=\"Open In Colab\"/></a>"
      ]
    },
    {
      "cell_type": "code",
      "execution_count": null,
      "metadata": {
        "colab": {
          "base_uri": "https://localhost:8080/",
          "height": 472
        },
        "id": "pd9I_DtyLDO3",
        "outputId": "fad9f774-808d-4670-c3dc-1d767307ba87"
      },
      "outputs": [
        {
          "output_type": "display_data",
          "data": {
            "text/plain": [
              "<Figure size 640x480 with 1 Axes>"
            ],
            "image/png": "[encoded data removed]"
          },
          "metadata": {}
        }
      ],
      "source": [
        "#Task2: Generate a Dataset of Two Linearly Separable Classes:\n",
        "import numpy as np\n",
        "import matplotlib.pyplot as plt\n",
        "\n",
        "# Set seed for reproducibility\n",
        "np.random.seed(0)\n",
        "\n",
        "# Generate class 0 (centered at [1,1])\n",
        "class0 = np.random.randn(100, 2) + np.array([1, 1])\n",
        "labels0 = np.zeros((100, 1))\n",
        "\n",
        "# Generate class 1 (centered at [5,5])\n",
        "class1 = np.random.randn(100, 2) + np.array([5, 5])\n",
        "labels1 = np.ones((100, 1))\n",
        "\n",
        "# Combine\n",
        "X = np.vstack((class0, class1))\n",
        "y = np.vstack((labels0, labels1))\n",
        "\n",
        "# Plot\n",
        "plt.scatter(X[:100, 0], X[:100, 1], color='blue', label='Class 0')\n",
        "plt.scatter(X[100:, 0], X[100:, 1], color='red', label='Class 1')\n",
        "plt.title(\"Linearly Separable Data\")\n",
        "plt.xlabel(\"Feature 1\")\n",
        "plt.ylabel(\"Feature 2\")\n",
        "plt.legend()\n",
        "plt.grid(True)\n",
        "plt.show()\n"
      ]
    },
    {
      "cell_type": "code",
      "source": [
        "# Task 3: Implement a Simple Neural Network:\n",
        "import numpy as np\n",
        "\n",
        "# Sigmoid and derivative\n",
        "def sigmoid(x):\n",
        "    return 1 / (1 + np.exp(-x))\n",
        "\n",
        "def sigmoid_derivative(x):\n",
        "    return x * (1 - x)\n",
        "\n",
        "# Inputs (AND gate example)\n",
        "X = np.array([[0, 0],\n",
        "              [0, 1],\n",
        "              [1, 0],\n",
        "              [1, 1]])\n",
        "\n",
        "# Outputs\n",
        "y = np.array([[0], [0], [0], [1]])\n",
        "\n",
        "# Random weights\n",
        "np.random.seed(1)\n",
        "weights = 2 * np.random.random((2, 1)) - 1\n",
        "\n",
        "# Training\n",
        "for i in range(10000):\n",
        "    input_layer = X\n",
        "    outputs = sigmoid(np.dot(input_layer, weights))\n",
        "    error = y - outputs\n",
        "    adjustments = error * sigmoid_derivative(outputs)\n",
        "    weights += np.dot(input_layer.T, adjustments)\n",
        "\n",
        "# Final predictions\n",
        "print(\"Predicted Output:\")\n",
        "print(outputs)\n"
      ],
      "metadata": {
        "colab": {
          "base_uri": "https://localhost:8080/"
        },
        "id": "WD5ZGN-rLJd1",
        "outputId": "0c15d09c-b8ee-40a5-94bd-54ceb522ee05"
      },
      "execution_count": null,
      "outputs": [
        {
          "output_type": "stream",
          "name": "stdout",
          "text": [
            "Predicted Output:\n",
            "[[0.5]\n",
            " [0.5]\n",
            " [0.5]\n",
            " [0.5]]\n"
          ]
        }
      ]
    },
    {
      "cell_type": "code",
      "source": [
        " # Task 4: Neural Network to Check if a Number is Even or Odd:\n",
        "import numpy as np\n",
        "\n",
        "# Convert number to 4-bit binary\n",
        "def int_to_binary(n):\n",
        "    return np.array([int(x) for x in format(n, '04b')])\n",
        "\n",
        "# Dataset: numbers 0 to 15\n",
        "X = np.array([int_to_binary(i) for i in range(16)])\n",
        "y = np.array([[1 if i % 2 == 0 else 0] for i in range(16)])  # 1 for even, 0 for odd\n",
        "\n",
        "# Sigmoid\n",
        "def sigmoid(x):\n",
        "    return 1 / (1 + np.exp(-x))\n",
        "def sigmoid_derivative(x):\n",
        "    return x * (1 - x)\n",
        "\n",
        "# Initialize weights\n",
        "np.random.seed(2)\n",
        "weights = 2 * np.random.random((4, 1)) - 1\n",
        "\n",
        "# Train\n",
        "for epoch in range(10000):\n",
        "    inputs = X\n",
        "    outputs = sigmoid(np.dot(inputs, weights))\n",
        "    error = y - outputs\n",
        "    weights += np.dot(inputs.T, error * sigmoid_derivative(outputs))\n",
        "\n",
        "# Test\n",
        "print(\"Binary\\tNumber\\tEven?\")\n",
        "for i in range(16):\n",
        "    pred = sigmoid(np.dot(X[i], weights))\n",
        "    print(f\"{X[i]} \\t {i} \\t {'Even' if pred > 0.5 else 'Odd'}\")\n"
      ],
      "metadata": {
        "colab": {
          "base_uri": "https://localhost:8080/"
        },
        "id": "CUWJ1yYRLNAC",
        "outputId": "a9678329-2ffe-425f-992a-99fa72c71a0f"
      },
      "execution_count": null,
      "outputs": [
        {
          "output_type": "stream",
          "name": "stdout",
          "text": [
            "Binary\tNumber\tEven?\n",
            "[0 0 0 0] \t 0 \t Odd\n",
            "[0 0 0 1] \t 1 \t Odd\n",
            "[0 0 1 0] \t 2 \t Even\n",
            "[0 0 1 1] \t 3 \t Odd\n",
            "[0 1 0 0] \t 4 \t Even\n",
            "[0 1 0 1] \t 5 \t Odd\n",
            "[0 1 1 0] \t 6 \t Even\n",
            "[0 1 1 1] \t 7 \t Odd\n",
            "[1 0 0 0] \t 8 \t Even\n",
            "[1 0 0 1] \t 9 \t Odd\n",
            "[1 0 1 0] \t 10 \t Even\n",
            "[1 0 1 1] \t 11 \t Odd\n",
            "[1 1 0 0] \t 12 \t Even\n",
            "[1 1 0 1] \t 13 \t Odd\n",
            "[1 1 1 0] \t 14 \t Even\n",
            "[1 1 1 1] \t 15 \t Odd\n"
          ]
        }
      ]
    }
  ]
}